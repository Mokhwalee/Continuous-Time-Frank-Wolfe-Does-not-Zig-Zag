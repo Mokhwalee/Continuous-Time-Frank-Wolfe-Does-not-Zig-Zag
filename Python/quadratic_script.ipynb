{
 "cells": [
  {
   "cell_type": "markdown",
   "metadata": {},
   "source": [
    "# Continuous Time FW\n",
    "## Least squares problem with L1 norm constraints"
   ]
  },
  {
   "cell_type": "code",
   "execution_count": 1,
   "metadata": {},
   "outputs": [],
   "source": [
    "import numpy as np\n",
    "from numpy.linalg import norm\n",
    "from frank_wolfe import FW\n",
    "import pylab as plt\n",
    "import pickle"
   ]
  },
  {
   "cell_type": "code",
   "execution_count": 2,
   "metadata": {},
   "outputs": [],
   "source": [
    "def obj_fun(A, b, z):\n",
    "    return ((norm(z.T.dot(A.T)-b)**2.))/2.\n",
    "\n",
    "def dFun(A, Atb, x, alpha):\n",
    "    Ax = x.T.dot(A.T).ravel()\n",
    "    grad = (A.T.dot(Ax) - Atb)\n",
    "    idx_oracle = np.argmax(np.abs(grad))\n",
    "    mag_oracle = alpha * np.sign(-grad[idx_oracle])\n",
    "    d = -x.copy()\n",
    "    d[idx_oracle] += mag_oracle\n",
    "    return d, grad\n",
    "\n",
    "def dFun_mom(A, Atb, x,alpha,theta,y,v, gamma):\n",
    "    y = x * (1.-gamma) + gamma * v\n",
    "    Ay = y.T.dot(A.T).ravel()\n",
    "    grady = (A.T.dot(Ay) - Atb)\n",
    "    theta = theta * (1.-gamma) + gamma * grady\n",
    "    idx_oracle = np.argmax(np.abs(theta))\n",
    "    mag_oracle = alpha * np.sign(-theta[idx_oracle])\n",
    "    v = x*0.\n",
    "    v[idx_oracle,0] = mag_oracle\n",
    "    d = v-x\n",
    "    return d, grady, theta,y,v"
   ]
  },
  {
   "cell_type": "code",
   "execution_count": 3,
   "metadata": {},
   "outputs": [],
   "source": [
    "sparsity,alpha = 0.1,5000\n",
    "T=5000\n",
    "n_samples = 500  #n\n",
    "n_features = 100 #m\n",
    "A = np.random.randn(n_samples,n_features)\n",
    "x_gt = np.random.randn(n_features)\n",
    "for j in range(len(x_gt)):\n",
    "    if np.random.rand(1) > sparsity:\n",
    "        x_gt[j] = 0\n",
    "noise = np.random.normal(0,0.05,n_samples)## Guassian noise\n",
    "b = x_gt.T.dot(A.T) + noise\n",
    "Atb = np.dot(A.T, b)\n",
    "\n",
    "def obj_fun_2(z) : return obj_fun(A, b, z)\n",
    "def dFun_2(x, alpha) : return dFun(A, Atb, x, alpha)\n",
    "def dFun_mom_2(x, alpha, theta, y, v, gamma) : return dFun_mom(A, Atb, x, alpha, theta, y, v, gamma)\n",
    "\n",
    "line_search = False\n",
    "disc_type = 'rk44'  # Can be 'FE', 'midpoint', 'rk44', 'rk4', 'rk5'\n",
    "\n",
    "sol = FW(obj_fun_2, dFun_2, dFun_mom_2, n_features, alpha, T, T, disc_type, line_search, momentum = False, tol=1e-8)\n"
   ]
  },
  {
   "cell_type": "code",
   "execution_count": 4,
   "metadata": {},
   "outputs": [
    {
     "name": "stderr",
     "output_type": "stream",
     "text": [
      "<ipython-input-4-501e4e7b8b16>:10: MatplotlibDeprecationWarning: Adding an axes using the same arguments as a previous axes currently reuses the earlier instance.  In a future version, a new instance will always be created and returned.  Meanwhile, this warning can be suppressed, and the future behavior ensured, by passing a unique label to each axes instance.\n",
      "  plt.subplot(1,2,1)\n",
      "<ipython-input-4-501e4e7b8b16>:15: MatplotlibDeprecationWarning: Adding an axes using the same arguments as a previous axes currently reuses the earlier instance.  In a future version, a new instance will always be created and returned.  Meanwhile, this warning can be suppressed, and the future behavior ensured, by passing a unique label to each axes instance.\n",
      "  plt.subplot(1,2,2)\n",
      "No handles with labels found to put in legend.\n"
     ]
    },
    {
     "data": {
      "image/png": "[encoded data removed]",
      "text/plain": [
       "<Figure size 648x216 with 2 Axes>"
      ]
     },
     "metadata": {
      "needs_background": "light"
     },
     "output_type": "display_data"
    }
   ],
   "source": [
    "colors = plt.rcParams['axes.prop_cycle'].by_key()['color']\n",
    "\n",
    "plt.figure(figsize=(9,3))\n",
    "plt.subplot(1,2,1)\n",
    "plt.plot(sol[2])\n",
    "\n",
    "plt.subplot(1,2,2)\n",
    "plt.plot(sol[1],sol[2])\n",
    "\n",
    "plt.subplot(1,2,1)\n",
    "plt.yscale('log')\n",
    "plt.xscale('log')\n",
    "plt.xlabel('Iterations')\n",
    "plt.ylabel('Gap')\n",
    "plt.subplot(1,2,2)\n",
    "\n",
    "plt.yscale('log')\n",
    "plt.xscale('log')\n",
    "plt.xlabel('Gradient/LMO calls')\n",
    "plt.ylabel('Gap')\n",
    "plt.legend(bbox_to_anchor=(1.8, 1), loc='upper right', ncol=1)\n",
    "\n",
    "plt.tight_layout()"
   ]
  }
 ],
 "metadata": {
  "kernelspec": {
   "display_name": "Python 3",
   "language": "python",
   "name": "python3"
  },
  "language_info": {
   "codemirror_mode": {
    "name": "ipython",
    "version": 3
   },
   "file_extension": ".py",
   "mimetype": "text/x-python",
   "name": "python",
   "nbconvert_exporter": "python",
   "pygments_lexer": "ipython3",
   "version": "3.8.3"
  }
 },
 "nbformat": 4,
 "nbformat_minor": 4
}
