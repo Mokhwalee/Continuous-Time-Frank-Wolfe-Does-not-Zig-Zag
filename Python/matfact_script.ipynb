{
 "cells": [
  {
   "cell_type": "markdown",
   "metadata": {},
   "source": [
    "# Continuous Time FW\n",
    "## Huber Regression with nuclear norm constraints"
   ]
  },
  {
   "cell_type": "code",
   "execution_count": 1,
   "metadata": {},
   "outputs": [],
   "source": [
    "import numpy as np\n",
    "from numpy.linalg import norm\n",
    "import pylab as plt\n",
    "from scipy import sparse\n",
    "import pandas as pd\n",
    "from sklearn.preprocessing import StandardScaler\n",
    "import pickle\n",
    "from scipy.sparse.linalg import svds\n",
    "from frank_wolfe import FW_matfact"
   ]
  },
  {
   "cell_type": "code",
   "execution_count": 2,
   "metadata": {},
   "outputs": [],
   "source": [
    "data = pd.read_csv('data/movielens100k.csv', names=['user id', 'item id', 'rating', 'timestamp'])\n",
    "B = np.double(pd.pivot_table(data, values='rating', index='user id', columns='item id').values)-3.\n",
    "BI,BJ = np.where(np.logical_not(np.isnan(B)))"
   ]
  },
  {
   "cell_type": "code",
   "execution_count": 3,
   "metadata": {},
   "outputs": [],
   "source": [
    "def huber(t,rho):\n",
    "    x = t*0.\n",
    "    x[np.less_equal(np.abs(t),rho)] = np.power(t[np.less_equal(np.abs(t),rho)],2.)/2.\n",
    "    x[np.greater(np.abs(t),rho)] = np.abs(x[np.greater(np.abs(t),rho)] -rho) + np.power(rho,2.)/2.\n",
    "    return x\n",
    "\n",
    "def der_huber(t,rho):\n",
    "    x = t*0.\n",
    "    x[np.less_equal(np.abs(t),rho)] = t[np.less_equal(np.abs(t),rho)]\n",
    "    x[np.greater(t,rho)] = rho\n",
    "    x[np.less(t,-rho)] = -rho\n",
    "    return x\n",
    "\n",
    "def get_atom(G):\n",
    "    u, s, v = svds(G, k=1, which='LM')\n",
    "    return np.outer(u, v)\n",
    "\n",
    "def obj_fun(x, rho):\n",
    "    return np.sum(huber(np.nan_to_num(B-x),rho))\n",
    "\n",
    "def dFun(x,alpha,rho):\n",
    "    grad = der_huber(np.nan_to_num(x-B), rho)\n",
    "    S = get_atom(-grad)*alpha\n",
    "    d = S-x.copy()\n",
    "    return d, grad\n",
    "\n",
    "def dFun_mom(x,alpha,rho, theta,y,v, gamma):\n",
    "    y = x * (1.-gamma) + gamma * v\n",
    "    grady = der_huber(np.nan_to_num(y-B), rho)\n",
    "    theta = theta * (1.-gamma) + gamma * grady\n",
    "    v = get_atom(-theta)*alpha\n",
    "    d = v-x\n",
    "    return d, grady, theta,y,v"
   ]
  },
  {
   "cell_type": "code",
   "execution_count": 5,
   "metadata": {},
   "outputs": [],
   "source": [
    "alpha = 1000.\n",
    "rho = 10.\n",
    "T=100\n",
    "\n",
    "def obj_fun_2(z) : return obj_fun(z, rho)\n",
    "# disc_type can be 'FE', 'midpoint', 'rk44', 'rk4', 'rk5'\n",
    "sol = FW_matfact(obj_fun_2, dFun, dFun_mom, B.shape, alpha,rho, T=T, n=T, disc_type ='FE', line_search = False, momentum = False)"
   ]
  },
  {
   "cell_type": "code",
   "execution_count": 6,
   "metadata": {},
   "outputs": [
    {
     "name": "stderr",
     "output_type": "stream",
     "text": [
      "<ipython-input-6-7c938b70959c>:11: MatplotlibDeprecationWarning: Adding an axes using the same arguments as a previous axes currently reuses the earlier instance.  In a future version, a new instance will always be created and returned.  Meanwhile, this warning can be suppressed, and the future behavior ensured, by passing a unique label to each axes instance.\n",
      "  plt.subplot(1,2,1)\n",
      "<ipython-input-6-7c938b70959c>:17: MatplotlibDeprecationWarning: Adding an axes using the same arguments as a previous axes currently reuses the earlier instance.  In a future version, a new instance will always be created and returned.  Meanwhile, this warning can be suppressed, and the future behavior ensured, by passing a unique label to each axes instance.\n",
      "  plt.subplot(1,2,2)\n"
     ]
    },
    {
     "data": {
      "image/png": "[encoded data removed]",
      "text/plain": [
       "<Figure size 648x216 with 2 Axes>"
      ]
     },
     "metadata": {
      "needs_background": "light"
     },
     "output_type": "display_data"
    }
   ],
   "source": [
    "colors = plt.rcParams['axes.prop_cycle'].by_key()['color']\n",
    "\n",
    "plt.figure(figsize=(9,3))\n",
    "\n",
    "plt.subplot(1,2,1)\n",
    "plt.plot(sol[2])\n",
    "\n",
    "plt.subplot(1,2,2)\n",
    "plt.plot(sol[1],sol[2])\n",
    "\n",
    "plt.subplot(1,2,1)\n",
    "plt.yscale('log')\n",
    "plt.xscale('log')\n",
    "plt.xlabel('Iterations')\n",
    "plt.ylabel('Gap')\n",
    "\n",
    "plt.subplot(1,2,2)\n",
    "plt.yscale('log')\n",
    "plt.xscale('log')\n",
    "plt.xlabel('Gradient/LMO calls')\n",
    "plt.ylabel('Gap')\n",
    "\n",
    "plt.tight_layout()"
   ]
  },
  {
   "cell_type": "code",
   "execution_count": null,
   "metadata": {},
   "outputs": [],
   "source": []
  }
 ],
 "metadata": {
  "kernelspec": {
   "display_name": "Python 3",
   "language": "python",
   "name": "python3"
  },
  "language_info": {
   "codemirror_mode": {
    "name": "ipython",
    "version": 3
   },
   "file_extension": ".py",
   "mimetype": "text/x-python",
   "name": "python",
   "nbconvert_exporter": "python",
   "pygments_lexer": "ipython3",
   "version": "3.8.3"
  }
 },
 "nbformat": 4,
 "nbformat_minor": 4
}
